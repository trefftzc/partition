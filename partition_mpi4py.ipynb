{
  "nbformat": 4,
  "nbformat_minor": 0,
  "metadata": {
    "colab": {
      "provenance": [],
      "authorship_tag": "ABX9TyPh8LzOwt9CtZlIJT2SEnsN",
      "include_colab_link": true
    },
    "kernelspec": {
      "name": "python3",
      "display_name": "Python 3"
    },
    "language_info": {
      "name": "python"
    }
  },
  "cells": [
    {
      "cell_type": "markdown",
      "metadata": {
        "id": "view-in-github",
        "colab_type": "text"
      },
      "source": [
        "<a href=\"https://colab.research.google.com/github/trefftzc/partition/blob/main/partition_mpi4py.ipynb\" target=\"_parent\"><img src=\"https://colab.research.google.com/assets/colab-badge.svg\" alt=\"Open In Colab\"/></a>"
      ]
    },
    {
      "cell_type": "markdown",
      "source": [
        "# Solving the partition problem with mpi4py"
      ],
      "metadata": {
        "id": "jnCPz2NDKIiy"
      }
    },
    {
      "cell_type": "code",
      "source": [
        "!pip install mpi4py"
      ],
      "metadata": {
        "colab": {
          "base_uri": "https://localhost:8080/"
        },
        "id": "DEW34phJLiMZ",
        "outputId": "8fd89c39-e1d9-4b68-9ced-3a176a2148ad"
      },
      "execution_count": 1,
      "outputs": [
        {
          "output_type": "stream",
          "name": "stdout",
          "text": [
            "Collecting mpi4py\n",
            "  Downloading mpi4py-4.0.1.tar.gz (466 kB)\n",
            "\u001b[?25l     \u001b[90m━━━━━━━━━━━━━━━━━━━━━━━━━━━━━━━━━━━━━━━━\u001b[0m \u001b[32m0.0/466.2 kB\u001b[0m \u001b[31m?\u001b[0m eta \u001b[36m-:--:--\u001b[0m\r\u001b[2K     \u001b[90m━━━━━━━━━━━━━━━━━━━━━━━━━━━━━━━━━━━━━━━━\u001b[0m \u001b[32m466.2/466.2 kB\u001b[0m \u001b[31m16.7 MB/s\u001b[0m eta \u001b[36m0:00:00\u001b[0m\n",
            "\u001b[?25h  Installing build dependencies ... \u001b[?25l\u001b[?25hdone\n",
            "  Getting requirements to build wheel ... \u001b[?25l\u001b[?25hdone\n",
            "  Installing backend dependencies ... \u001b[?25l\u001b[?25hdone\n",
            "  Preparing metadata (pyproject.toml) ... \u001b[?25l\u001b[?25hdone\n",
            "Building wheels for collected packages: mpi4py\n",
            "  Building wheel for mpi4py (pyproject.toml) ... \u001b[?25l\u001b[?25hdone\n",
            "  Created wheel for mpi4py: filename=mpi4py-4.0.1-cp310-cp310-linux_x86_64.whl size=4266352 sha256=f981a09027625d82644bedff4064575ccbe53e76de2ed09fde534b2072a30890\n",
            "  Stored in directory: /root/.cache/pip/wheels/3c/ca/13/13218a83854023ccec184e3af482f0f038b434aa32c19afee8\n",
            "Successfully built mpi4py\n",
            "Installing collected packages: mpi4py\n",
            "Successfully installed mpi4py-4.0.1\n"
          ]
        }
      ]
    },
    {
      "cell_type": "code",
      "execution_count": 2,
      "metadata": {
        "colab": {
          "base_uri": "https://localhost:8080/"
        },
        "id": "L6QjmoQgKHkv",
        "outputId": "e908dd9d-7417-4376-d561-07514c8f6d96"
      },
      "outputs": [
        {
          "output_type": "stream",
          "name": "stdout",
          "text": [
            "Writing partition_mpi4py.py\n"
          ]
        }
      ],
      "source": [
        "%%writefile partition_mpi4py.py\n",
        "from mpi4py import MPI\n",
        "import time\n",
        "import numpy as np\n",
        "\n",
        "\n",
        "\n",
        "# This function has not changed from the previous versions\n",
        "# There are no changes related to MPI in this function\n",
        "def evaluatePartition(value,n,array):\n",
        "  sum0s = 0\n",
        "  sum1s = 0\n",
        "  mask = 1\n",
        "  for i in range(0,n):\n",
        "    if ((mask & value) != 0):\n",
        "      sum1s = sum1s + array[i]\n",
        "    else:\n",
        "      sum0s = sum0s + array[i]\n",
        "    mask = mask*2\n",
        "  if (sum0s == sum1s):\n",
        "    return 1\n",
        "  else:\n",
        "    return 0\n",
        "\n",
        "\n",
        "\n",
        "# This function has not changed from the previous versions\n",
        "# There are no changes related to MPI in this function\n",
        "def printResults(value,n,array):\n",
        "  print(\"Solution:\")\n",
        "  print(\"First partition: \")\n",
        "  mask = 1\n",
        "  sum = 0\n",
        "  for i in range(0,n):\n",
        "    if ((mask & value) != 0):\n",
        "      print(array[i],end=\" \")\n",
        "      sum = sum + array[i]\n",
        "    mask = mask * 2\n",
        "\n",
        "  print(\"sum: \",sum)\n",
        "\n",
        "  print(\"Second partition: \")\n",
        "  mask = 1\n",
        "  sum = 0\n",
        "  for i in range(0,n):\n",
        "    if ((mask & value) == 0):\n",
        "      print(array[i],end=\" \")\n",
        "      sum = sum + array[i]\n",
        "    mask = mask * 2\n",
        "\n",
        "  print(\"sum: \",sum)\n",
        "\n",
        "\n",
        "\n",
        "\n",
        "\n",
        "def solve(numpyArray,nPartitions,n,begin,end):\n",
        "  solutionFound = 0\n",
        "  for i in range(begin,end):\n",
        "    r = evaluatePartition(i,n,numpyArray)\n",
        "    if (r==1):\n",
        "      solutionFound = max(solutionFound,i)\n",
        "  if (solutionFound != 0):\n",
        "    return solutionFound\n",
        "  else:\n",
        "    return -1\n",
        "\n",
        "\n",
        "\n",
        "# The changes necessary to use MPI (mpi4py)\n",
        "# are limited to the main program\n",
        "if __name__ == \"__main__\":\n",
        "# For all nodes\n",
        "# Find their rank\n",
        "# Find the number of nodes being used in this parallel program\n",
        "  comm = MPI.COMM_WORLD\n",
        "  rank = comm.Get_rank()\n",
        "  number_nodes = comm.Get_size()\n",
        "  # If this is the master node, read the problem\n",
        "  if rank == 0:\n",
        "    start = time.time()\n",
        "\n",
        "  if rank == 0:\n",
        "    n = int(input())\n",
        "    values = []\n",
        "    for i in range(n):\n",
        "      values.append( int(input()) )\n",
        "\n",
        "  # Print the instance of the problem\n",
        "    print(\"Problem size: \",n)\n",
        "    print(\"Problem instance: \",values)\n",
        "  else:\n",
        "    n = None\n",
        "\n",
        "# Broadcast the size of the problem, the number of entries\n",
        "# in the multiset to all participating nodes\n",
        "  n = comm.bcast(n,root=0)\n",
        "# Broadcast the multiset to all participating nodes\n",
        "  if rank == 0:\n",
        "    npValues = np.array(values)\n",
        "  else:\n",
        "    npValues = np.arange(n,dtype='i')\n",
        "  npValues = comm.bcast(npValues,root=0)\n",
        "  # print(\"npValues: \",npValues)\n",
        "  # Calculate the size of the power set\n",
        "\n",
        "  nPartitions = int ( 2 ** n )\n",
        "\n",
        "# Calculate the portion of the power set that each\n",
        "# node will be working on\n",
        "\n",
        "  portionEachNode = nPartitions // number_nodes\n",
        "  initial = portionEachNode * rank;\n",
        "\n",
        "  if (rank != (number_nodes-1)):\n",
        "    final = initial + portionEachNode\n",
        "  else:\n",
        "    final = nPartitions\n",
        "  max_in_this_node = solve(npValues,nPartitions,n,initial,final)\n",
        "# Reduce across all nodes to find the max across all nodes\n",
        "  result = comm.reduce(max_in_this_node,op=MPI.MAX)\n",
        "\n",
        "  if rank == 0:\n",
        "    if result == -1:\n",
        "      print(\"No solution found.\")\n",
        "    else:\n",
        "      printResults(result,n,npValues)\n",
        "\n",
        "  if rank == 0:\n",
        "    end = time.time()\n",
        "    elapsed = end - start\n",
        "    print(\"The program took: \",elapsed,\" seconds.\")"
      ]
    },
    {
      "cell_type": "code",
      "source": [
        "%%writefile test11.Text\n",
        "11\n",
        "1\n",
        "2\n",
        "3\n",
        "4\n",
        "5\n",
        "6\n",
        "7\n",
        "8\n",
        "9\n",
        "10\n",
        "11"
      ],
      "metadata": {
        "colab": {
          "base_uri": "https://localhost:8080/"
        },
        "id": "ZmxNdWIIM2ry",
        "outputId": "cf95991c-ed34-4df1-9658-fe000307116d"
      },
      "execution_count": 5,
      "outputs": [
        {
          "output_type": "stream",
          "name": "stdout",
          "text": [
            "Overwriting test11.Text\n"
          ]
        }
      ]
    },
    {
      "cell_type": "code",
      "source": [
        "!OMPI_ALLOW_RUN_AS_ROOT=1\n",
        "!mpiexec --allow-run-as-root -n 2 --oversubscribe python partition_mpi4py.py < test11.Text"
      ],
      "metadata": {
        "colab": {
          "base_uri": "https://localhost:8080/"
        },
        "id": "h49ePtcZM6ly",
        "outputId": "294a6b14-0f80-4ff7-f6db-04676f6925f0"
      },
      "execution_count": 6,
      "outputs": [
        {
          "output_type": "stream",
          "name": "stdout",
          "text": [
            "Problem size:  11\n",
            "Problem instance:  [1, 2, 3, 4, 5, 6, 7, 8, 9, 10, 11]\n",
            "Solution:\n",
            "First partition: \n",
            "3 9 10 11 sum:  33\n",
            "Second partition: \n",
            "1 2 4 5 6 7 8 sum:  33\n",
            "The program took:  0.06608128547668457  seconds.\n"
          ]
        }
      ]
    }
  ]
}