{
  "nbformat": 4,
  "nbformat_minor": 0,
  "metadata": {
    "colab": {
      "provenance": [],
      "include_colab_link": true
    },
    "kernelspec": {
      "name": "python3",
      "display_name": "Python 3"
    },
    "accelerator": "GPU"
  },
  "cells": [
    {
      "cell_type": "markdown",
      "metadata": {
        "id": "view-in-github",
        "colab_type": "text"
      },
      "source": [
        "<a href=\"https://colab.research.google.com/github/trefftzc/partition/blob/main/thrust_on_colab.ipynb\" target=\"_parent\"><img src=\"https://colab.research.google.com/assets/colab-badge.svg\" alt=\"Open In Colab\"/></a>"
      ]
    },
    {
      "metadata": {
        "id": "Azf91OtajTab",
        "colab": {
          "base_uri": "https://localhost:8080/"
        },
        "outputId": "930dfa78-b24d-45c3-9f19-3b2518b5bc88"
      },
      "cell_type": "code",
      "source": [
        "!apt update -qq"
      ],
      "execution_count": null,
      "outputs": [
        {
          "output_type": "stream",
          "name": "stdout",
          "text": [
            "17 packages can be upgraded. Run 'apt list --upgradable' to see them.\n"
          ]
        }
      ]
    },
    {
      "metadata": {
        "id": "PKBV7iXgjdfJ",
        "colab": {
          "base_uri": "https://localhost:8080/"
        },
        "outputId": "b69514ef-5be9-418f-fc71-edd017c5fa83"
      },
      "cell_type": "code",
      "source": [
        "!wget https://developer.nvidia.com/compute/cuda/8.0/Prod2/local_installers/cuda-repo-ubuntu1604-8-0-local-ga2_8.0.61-1_amd64-deb"
      ],
      "execution_count": null,
      "outputs": [
        {
          "output_type": "stream",
          "name": "stdout",
          "text": [
            "--2023-11-30 02:53:55--  https://developer.nvidia.com/compute/cuda/8.0/Prod2/local_installers/cuda-repo-ubuntu1604-8-0-local-ga2_8.0.61-1_amd64-deb\n",
            "Resolving developer.nvidia.com (developer.nvidia.com)... 152.195.19.142\n",
            "Connecting to developer.nvidia.com (developer.nvidia.com)|152.195.19.142|:443... connected.\n",
            "HTTP request sent, awaiting response... 302 Found\n",
            "Location: https://developer.nvidia.com/downloads/compute/cuda/8.0/prod2/local_installers/cuda-repo-ubuntu1604-8-0-local-ga2_8.0.61-1_amd64-deb [following]\n",
            "--2023-11-30 02:53:56--  https://developer.nvidia.com/downloads/compute/cuda/8.0/prod2/local_installers/cuda-repo-ubuntu1604-8-0-local-ga2_8.0.61-1_amd64-deb\n",
            "Reusing existing connection to developer.nvidia.com:443.\n",
            "HTTP request sent, awaiting response... 302 Found\n",
            "Location: https://developer.download.nvidia.com/compute/cuda/8.0/secure/Prod2/local_installers/cuda-repo-ubuntu1604-8-0-local-ga2_8.0.61-1_amd64.deb?F223fiIp0Cx-kxpbCQDHIMq-lj9fVDaFI9WK8iUIg-reJ-YSQN1gSXuhRvInhLIxDB8xU4TrxY6feJphc1xRWUjQO7WK4MZ69rdSXmZ8BTHSZHySogdGvoxj2mt0uCrW5BSMhCs4kgS18h1zE2M7Egw63ulskLWBqr3LGEnjyC9nAmmjhyccC720_MQf-Kp4V7afGNdofTsxGsN7dPi0wbh-XQ== [following]\n",
            "--2023-11-30 02:53:56--  https://developer.download.nvidia.com/compute/cuda/8.0/secure/Prod2/local_installers/cuda-repo-ubuntu1604-8-0-local-ga2_8.0.61-1_amd64.deb?F223fiIp0Cx-kxpbCQDHIMq-lj9fVDaFI9WK8iUIg-reJ-YSQN1gSXuhRvInhLIxDB8xU4TrxY6feJphc1xRWUjQO7WK4MZ69rdSXmZ8BTHSZHySogdGvoxj2mt0uCrW5BSMhCs4kgS18h1zE2M7Egw63ulskLWBqr3LGEnjyC9nAmmjhyccC720_MQf-Kp4V7afGNdofTsxGsN7dPi0wbh-XQ==\n",
            "Resolving developer.download.nvidia.com (developer.download.nvidia.com)... 152.195.19.142\n",
            "Connecting to developer.download.nvidia.com (developer.download.nvidia.com)|152.195.19.142|:443... connected.\n",
            "HTTP request sent, awaiting response... 200 OK\n",
            "Length: 1913589814 (1.8G) [application/x-deb]\n",
            "Saving to: ‘cuda-repo-ubuntu1604-8-0-local-ga2_8.0.61-1_amd64-deb’\n",
            "\n",
            "cuda-repo-ubuntu160 100%[===================>]   1.78G   213MB/s    in 7.5s    \n",
            "\n",
            "2023-11-30 02:54:04 (244 MB/s) - ‘cuda-repo-ubuntu1604-8-0-local-ga2_8.0.61-1_amd64-deb’ saved [1913589814/1913589814]\n",
            "\n"
          ]
        }
      ]
    },
    {
      "metadata": {
        "id": "vrfKbLekdPDO"
      },
      "cell_type": "code",
      "source": [
        "!dpkg -i cuda-repo-ubuntu1604–8–0-local-ga2_8.0.61–1_amd64-deb 2> /dev/null"
      ],
      "execution_count": null,
      "outputs": []
    },
    {
      "metadata": {
        "id": "A9Lo4FoydC7q",
        "colab": {
          "base_uri": "https://localhost:8080/"
        },
        "outputId": "5ef23f39-70f1-4327-e531-303ae4efc873"
      },
      "cell_type": "code",
      "source": [
        "!apt-key add /var/cuda-repo-8-0-local-ga2/7fa2af80.pub"
      ],
      "execution_count": null,
      "outputs": [
        {
          "output_type": "stream",
          "name": "stdout",
          "text": [
            "Warning: apt-key is deprecated. Manage keyring files in trusted.gpg.d instead (see apt-key(8)).\n",
            "gpg: can't open '/var/cuda-repo-8-0-local-ga2/7fa2af80.pub': No such file or directory\n"
          ]
        }
      ]
    },
    {
      "metadata": {
        "id": "vuIFPr-leAFV"
      },
      "cell_type": "code",
      "source": [
        "!apt-get update -qq"
      ],
      "execution_count": null,
      "outputs": []
    },
    {
      "metadata": {
        "id": "5LCW1tnxj-pk",
        "colab": {
          "base_uri": "https://localhost:8080/"
        },
        "outputId": "d160e56e-743c-48ff-ef78-3cca852509f7"
      },
      "cell_type": "code",
      "source": [
        "!apt --fix-broken install\n",
        "!apt-get install cuda gcc-5 g++-5 -y -qq;"
      ],
      "execution_count": null,
      "outputs": [
        {
          "output_type": "stream",
          "name": "stdout",
          "text": [
            "Reading package lists... Done\n",
            "Building dependency tree... Done\n",
            "Reading state information... Done\n",
            "0 upgraded, 0 newly installed, 0 to remove and 17 not upgraded.\n",
            "E: Unable to locate package gcc-5\n",
            "E: Package 'g++-5' has no installation candidate\n"
          ]
        }
      ]
    },
    {
      "metadata": {
        "id": "zoqglXEBj-02",
        "colab": {
          "base_uri": "https://localhost:8080/"
        },
        "outputId": "a88075af-fc9f-4fd4-a171-c714ad601ec4"
      },
      "cell_type": "code",
      "source": [
        "!ln -s /usr/bin/gcc-5 /usr/local/cuda/bin/gcc;\n",
        "!ln -s /usr/bin/g++-5 /usr/local/cuda/bin/g++;\n",
        "!apt install cuda-8.0;"
      ],
      "execution_count": null,
      "outputs": [
        {
          "output_type": "stream",
          "name": "stdout",
          "text": [
            "Reading package lists... Done\n",
            "Building dependency tree... Done\n",
            "Reading state information... Done\n",
            "\u001b[1;31mE: \u001b[0mUnable to locate package cuda-8.0\u001b[0m\n",
            "\u001b[1;31mE: \u001b[0mCouldn't find any package by glob 'cuda-8.0'\u001b[0m\n"
          ]
        }
      ]
    },
    {
      "metadata": {
        "id": "IzaD9e62epuL"
      },
      "cell_type": "code",
      "source": [
        "import os\n",
        "os.environ['PATH'] += ':/usr/local/cuda/bin'"
      ],
      "execution_count": null,
      "outputs": []
    },
    {
      "metadata": {
        "id": "ayx2gqk8iICV",
        "colab": {
          "base_uri": "https://localhost:8080/"
        },
        "outputId": "1c37bb77-9685-47bb-a81c-2a2b2efaf744"
      },
      "cell_type": "code",
      "source": [
        "!apt install gcc-5 g++-5 -y"
      ],
      "execution_count": null,
      "outputs": [
        {
          "output_type": "stream",
          "name": "stdout",
          "text": [
            "Reading package lists... Done\n",
            "Building dependency tree... Done\n",
            "Reading state information... Done\n",
            "Package g++-5 is not available, but is referred to by another package.\n",
            "This may mean that the package is missing, has been obsoleted, or\n",
            "is only available from another source\n",
            "However the following packages replace it:\n",
            "  gcc-10-test-results gcc-9-test-results gcc-12-test-results gcc-11-test-results\n",
            "\n",
            "\u001b[1;31mE: \u001b[0mUnable to locate package gcc-5\u001b[0m\n",
            "\u001b[1;31mE: \u001b[0mPackage 'g++-5' has no installation candidate\u001b[0m\n"
          ]
        }
      ]
    },
    {
      "metadata": {
        "id": "MFe_6wdBiLcy"
      },
      "cell_type": "code",
      "source": [
        "import os\n",
        "os.environ['PATH'] += ':/usr/local/cuda/bin'"
      ],
      "execution_count": null,
      "outputs": []
    },
    {
      "metadata": {
        "id": "1UT9EIGZiN12",
        "colab": {
          "base_uri": "https://localhost:8080/"
        },
        "outputId": "6a32f1b3-cfd1-4fa7-e04a-36aa7d82ff7b"
      },
      "cell_type": "code",
      "source": [
        "!nvcc --version"
      ],
      "execution_count": null,
      "outputs": [
        {
          "output_type": "stream",
          "name": "stdout",
          "text": [
            "nvcc: NVIDIA (R) Cuda compiler driver\n",
            "Copyright (c) 2005-2022 NVIDIA Corporation\n",
            "Built on Wed_Sep_21_10:33:58_PDT_2022\n",
            "Cuda compilation tools, release 11.8, V11.8.89\n",
            "Build cuda_11.8.r11.8/compiler.31833905_0\n"
          ]
        }
      ]
    },
    {
      "metadata": {
        "id": "zjr4TsIFk21Z",
        "colab": {
          "base_uri": "https://localhost:8080/"
        },
        "outputId": "a489dd81-569d-4d18-fe68-057cfb266a81"
      },
      "cell_type": "code",
      "source": [
        "%%file version.cu\n",
        "#include <thrust/version.h>\n",
        "#include <iostream>\n",
        "\n",
        "int main(void)\n",
        "{\n",
        "  int major = THRUST_MAJOR_VERSION;\n",
        "  int minor = THRUST_MINOR_VERSION;\n",
        "\n",
        "  std::cout << \"Thrust v\" << major << \".\" << minor << std::endl;\n",
        "\n",
        "  return 0;\n",
        "}"
      ],
      "execution_count": null,
      "outputs": [
        {
          "output_type": "stream",
          "name": "stdout",
          "text": [
            "Writing version.cu\n"
          ]
        }
      ]
    },
    {
      "metadata": {
        "id": "7lVHw-Ezlf_L",
        "colab": {
          "base_uri": "https://localhost:8080/"
        },
        "outputId": "1f65eb01-2eb2-4313-b1bd-a9529fab3de5"
      },
      "cell_type": "code",
      "source": [
        "!nvcc version.cu -o version\n",
        "!./version"
      ],
      "execution_count": null,
      "outputs": [
        {
          "output_type": "stream",
          "name": "stdout",
          "text": [
            "Thrust v1.15\n"
          ]
        }
      ]
    },
    {
      "metadata": {
        "id": "DXERV5wRlqX3",
        "colab": {
          "base_uri": "https://localhost:8080/"
        },
        "outputId": "ef576824-537b-4cf3-f458-12f973c2ef1d"
      },
      "cell_type": "code",
      "source": [
        "%%file thrust_example.cu\n",
        "#include <thrust/host_vector.h>\n",
        "#include <thrust/device_vector.h>\n",
        "#include <thrust/generate.h>\n",
        "#include <thrust/sort.h>\n",
        "#include <thrust/copy.h>\n",
        "#include <algorithm>\n",
        "#include <cstdlib>\n",
        "\n",
        "int main(void)\n",
        "{\n",
        "  // generate 32M random numbers serially\n",
        "  thrust::host_vector<int> h_vec(32 << 20);\n",
        "  std::generate(h_vec.begin(), h_vec.end(), rand);\n",
        "\n",
        "  // transfer data to the device\n",
        "  thrust::device_vector<int> d_vec = h_vec;\n",
        "\n",
        "  // sort data on the device\n",
        "  thrust::sort(d_vec.begin(), d_vec.end());\n",
        "\n",
        "  // transfer data back to host\n",
        "  thrust::copy(d_vec.begin(), d_vec.end(), h_vec.begin());\n",
        "\n",
        "  return 0;\n",
        "}"
      ],
      "execution_count": null,
      "outputs": [
        {
          "output_type": "stream",
          "name": "stdout",
          "text": [
            "Writing thrust_example.cu\n"
          ]
        }
      ]
    },
    {
      "metadata": {
        "id": "PSqPaE0amBwB"
      },
      "cell_type": "code",
      "source": [
        "!nvcc thrust_example.cu -o thrust_example\n",
        "!./thrust_example\n"
      ],
      "execution_count": null,
      "outputs": []
    },
    {
      "metadata": {
        "id": "v6gCqNHwmJp1",
        "colab": {
          "base_uri": "https://localhost:8080/"
        },
        "outputId": "60ab2320-9cc0-4fa0-9dd5-6b60039e64fc"
      },
      "cell_type": "code",
      "source": [
        "!nvprof ./thrust_example"
      ],
      "execution_count": null,
      "outputs": [
        {
          "output_type": "stream",
          "name": "stdout",
          "text": [
            "==4180== NVPROF is profiling process 4180, command: ./thrust_example\n",
            "==4180== Profiling application: ./thrust_example\n",
            "==4180== Profiling result:\n",
            "            Type  Time(%)      Time     Calls       Avg       Min       Max  Name\n",
            " GPU activities:   36.73%  29.858ms         1  29.858ms  29.858ms  29.858ms  [CUDA memcpy DtoH]\n",
            "                   36.59%  29.745ms         1  29.745ms  29.745ms  29.745ms  [CUDA memcpy HtoD]\n",
            "                   13.93%  11.329ms         3  3.7762ms  3.7748ms  3.7771ms  void cub::DeviceRadixSortDownsweepKernel<cub::DeviceRadixSortPolicy<int, cub::NullType, int>::Policy800, bool=1, bool=0, int, cub::NullType, int>(cub::DeviceRadixSortPolicy<int, cub::NullType, int>::Policy800 const *, cub::DeviceRadixSortDownsweepKernel<cub::DeviceRadixSortPolicy<int, cub::NullType, int>::Policy800, bool=1, bool=0, int, cub::NullType, int>*, bool=1 const *, cub::DeviceRadixSortDownsweepKernel<cub::DeviceRadixSortPolicy<int, cub::NullType, int>::Policy800, bool=1, bool=0, int, cub::NullType, int>**, bool=0*, cub::DeviceRadixSortDownsweepKernel<cub::DeviceRadixSortPolicy<int, cub::NullType, int>::Policy800, bool=1, bool=0, int, cub::NullType, int>**, int, int, cub::GridEvenShare<cub::DeviceRadixSortDownsweepKernel<cub::DeviceRadixSortPolicy<int, cub::NullType, int>::Policy800, bool=1, bool=0, int, cub::NullType, int>**>)\n",
            "                    7.63%  6.2055ms         2  3.1027ms  2.9903ms  3.2152ms  void cub::DeviceRadixSortDownsweepKernel<cub::DeviceRadixSortPolicy<int, cub::NullType, int>::Policy800, bool=0, bool=0, int, cub::NullType, int>(cub::DeviceRadixSortPolicy<int, cub::NullType, int>::Policy800 const *, cub::DeviceRadixSortDownsweepKernel<cub::DeviceRadixSortPolicy<int, cub::NullType, int>::Policy800, bool=0, bool=0, int, cub::NullType, int>*, bool=0 const *, cub::DeviceRadixSortDownsweepKernel<cub::DeviceRadixSortPolicy<int, cub::NullType, int>::Policy800, bool=0, bool=0, int, cub::NullType, int>**, bool=0*, cub::DeviceRadixSortDownsweepKernel<cub::DeviceRadixSortPolicy<int, cub::NullType, int>::Policy800, bool=0, bool=0, int, cub::NullType, int>**, int, int, cub::GridEvenShare<cub::DeviceRadixSortDownsweepKernel<cub::DeviceRadixSortPolicy<int, cub::NullType, int>::Policy800, bool=0, bool=0, int, cub::NullType, int>**>)\n",
            "                    2.14%  1.7396ms         3  579.86us  554.45us  616.15us  void cub::DeviceRadixSortUpsweepKernel<cub::DeviceRadixSortPolicy<int, cub::NullType, int>::Policy800, bool=1, bool=0, int, int>(cub::DeviceRadixSortPolicy<int, cub::NullType, int>::Policy800 const *, bool=1*, cub::DeviceRadixSortPolicy<int, cub::NullType, int>::Policy800 const *, int, int, cub::GridEvenShare<cub::DeviceRadixSortPolicy<int, cub::NullType, int>::Policy800 const *>)\n",
            "                    1.45%  1.1805ms         2  590.24us  586.87us  593.62us  void cub::DeviceRadixSortUpsweepKernel<cub::DeviceRadixSortPolicy<int, cub::NullType, int>::Policy800, bool=0, bool=0, int, int>(cub::DeviceRadixSortPolicy<int, cub::NullType, int>::Policy800 const *, bool=0*, cub::DeviceRadixSortPolicy<int, cub::NullType, int>::Policy800 const *, int, int, cub::GridEvenShare<cub::DeviceRadixSortPolicy<int, cub::NullType, int>::Policy800 const *>)\n",
            "                    1.35%  1.0985ms         1  1.0985ms  1.0985ms  1.0985ms  void thrust::cuda_cub::core::_kernel_agent<thrust::cuda_cub::__parallel_for::ParallelForAgent<thrust::cuda_cub::__transform::unary_transform_f<int*, int*, thrust::cuda_cub::__transform::no_stencil_tag, thrust::identity<int>, thrust::cuda_cub::__transform::always_true_predicate>, long>, thrust::cuda_cub::__transform::unary_transform_f<int*, int*, thrust::cuda_cub::__transform::no_stencil_tag, thrust::identity<int>, thrust::cuda_cub::__transform::always_true_predicate>, long>(int*, thrust::cuda_cub::__transform::no_stencil_tag)\n",
            "                    0.18%  144.73us         5  28.946us  24.607us  35.647us  void cub::RadixSortScanBinsKernel<cub::DeviceRadixSortPolicy<int, cub::NullType, int>::Policy800, int>(cub::NullType*, int)\n",
            "      API calls:   61.47%  135.17ms         2  67.583ms  295.22us  134.87ms  cudaMalloc\n",
            "                   27.39%  60.227ms         2  30.114ms  30.003ms  30.224ms  cudaMemcpyAsync\n",
            "                   10.02%  22.031ms         4  5.5076ms  6.3300us  21.940ms  cudaStreamSynchronize\n",
            "                    0.68%  1.5051ms         1  1.5051ms  1.5051ms  1.5051ms  cuDeviceGetPCIBusId\n",
            "                    0.29%  630.62us         2  315.31us  314.10us  316.52us  cudaFree\n",
            "                    0.06%  134.82us       101  1.3340us     132ns  59.246us  cuDeviceGetAttribute\n",
            "                    0.05%  100.35us        16  6.2720us  3.5860us  27.859us  cudaLaunchKernel\n",
            "                    0.01%  30.923us         1  30.923us  30.923us  30.923us  cuDeviceGetName\n",
            "                    0.01%  14.346us         1  14.346us  14.346us  14.346us  cudaFuncGetAttributes\n",
            "                    0.01%  12.838us        76     168ns     117ns     966ns  cudaGetLastError\n",
            "                    0.00%  10.314us        12     859ns     400ns  2.9990us  cudaOccupancyMaxActiveBlocksPerMultiprocessorWithFlags\n",
            "                    0.00%  4.9650us         7     709ns     313ns  2.0170us  cudaGetDevice\n",
            "                    0.00%  4.7710us        32     149ns     118ns     219ns  cudaPeekAtLastError\n",
            "                    0.00%  3.1980us         3  1.0660us     487ns  1.9280us  cudaDeviceGetAttribute\n",
            "                    0.00%  1.7920us         3     597ns     261ns  1.2280us  cuDeviceGetCount\n",
            "                    0.00%  1.0040us         2     502ns     224ns     780ns  cuDeviceGet\n",
            "                    0.00%     574ns         1     574ns     574ns     574ns  cuDeviceTotalMem\n",
            "                    0.00%     420ns         1     420ns     420ns     420ns  cuModuleGetLoadingMode\n",
            "                    0.00%     215ns         1     215ns     215ns     215ns  cuDeviceGetUuid\n",
            "                    0.00%     181ns         1     181ns     181ns     181ns  cudaGetDeviceCount\n"
          ]
        }
      ]
    },
    {
      "cell_type": "markdown",
      "source": [
        "# Solving the partition problem with CUDA\n",
        "\n",
        "The following source code solves the partition problem in CUDA"
      ],
      "metadata": {
        "id": "0NFcAiEgMI00"
      }
    },
    {
      "cell_type": "code",
      "source": [
        "%%file cudaPartition.cu\n",
        "/*\n",
        " * cudaPartition.cu\n",
        " * Solve the Partition problem using CUDA.\n",
        " * https://en.wikipedia.org/wiki/Partition_problem\n",
        " * This code works for multisets of up to 32 elements\n",
        " * The input is expected to be as follows:\n",
        " * The first line will contain n, the number of elements in the multiset\n",
        " * The remaining n lines will contain the n values, one per line\n",
        " */\n",
        "#include <stdio.h>\n",
        "#include <stdlib.h>\n",
        "// The kernel\n",
        "// This function is executed, in parallel, on the processors on the GPU card\n",
        "//\n",
        "__global__\n",
        "void evaluatePartition(  int n, int *array,int *result) {\n",
        "  unsigned int value = blockIdx.x*blockDim.x + threadIdx.x;\n",
        "  int sum0s = 0;\n",
        "  int sum1s = 0;\n",
        "  unsigned int mask = 1;\n",
        "  for(int i = 0;i < n;i++) {\n",
        "    if ((mask & value) != 0) {\n",
        "      sum1s = sum1s + array[i];\n",
        "    }\n",
        "    else {\n",
        "      sum0s = sum0s + array[i];\n",
        "    }\n",
        "    mask = mask * 2;\n",
        "  }\n",
        "  if (sum0s == sum1s)\n",
        "     result[value] = 1;\n",
        "  else\n",
        "     result[value] = 0;\n",
        "  // printf(\"%d %d \\n\",value,result[value]);\n",
        "}\n",
        "\n",
        "void printResults(unsigned int value,int n,int *array)\n",
        "{\n",
        "  printf(\"Solution:\\n\");\n",
        "  printf(\"First partition: \") ;\n",
        "  unsigned int mask = 1;\n",
        "  int sum = 0;\n",
        "  for(int i = 0;i < n;i++) {\n",
        "    if ((mask & value) != 0) {\n",
        "      printf(\"%d \",array[i]);\n",
        "      sum = sum + array[i];\n",
        "    }\n",
        "    mask = mask * 2;\n",
        "  }\n",
        "  printf(\" sum: %d \\n\",sum);\n",
        "  printf(\"Second partition: \") ;\n",
        "  mask = 1;\n",
        "  sum = 0;\n",
        "  for(int i = 0;i < n;i++) {\n",
        "    if ((mask & value) == 0) {\n",
        "      printf(\"%d \",array[i]);\n",
        "      sum = sum + array[i];\n",
        "    }\n",
        "    mask = mask * 2;\n",
        "  }\n",
        "  printf(\" sum: %d \\n\",sum);\n",
        "}\n",
        "\n",
        "\n",
        "int main() {\n",
        "\n",
        "  int n;\n",
        "  int *array;\n",
        "\n",
        "  scanf(\"%d\",&n);\n",
        "\n",
        "  printf(\"The value of n is %d\\n\",n);\n",
        "  array = (int *) malloc (n * sizeof(int));\n",
        "  for(int i = 0;i < n;i++) {\n",
        "    scanf(\"%d\",&array[i]);\n",
        "  }\n",
        "  printf(\"The read values are: \\n\");\n",
        "  for(int i = 0;i < n;i++) {\n",
        "    printf(\"%d \",array[i]);\n",
        "  }\n",
        "  printf(\"\\n\");\n",
        "\n",
        "  unsigned int nPartitions = 1;\n",
        "  for(int i = 0;i < n;i++) {\n",
        "    nPartitions = nPartitions * 2;\n",
        "  }\n",
        "  // printf(\"The number of possible partitions is: %d\\n\",nPartitions);\n",
        "  // Only half of all possible partitions need be examined\n",
        "  // The second half is symmetrical to the first half\n",
        "  nPartitions = nPartitions / 2;\n",
        "\n",
        "  int solutionFound = 0;\n",
        "  int solution = -1;\n",
        "  // Allocate the variables in the device:\n",
        "  // The array with the integer values in the device is called d_array\n",
        "  int *d_array;\n",
        "  cudaMalloc(&d_array, n*sizeof(int));\n",
        "\n",
        "  // Copy the variables from the host to the device\n",
        "  cudaMemcpy(d_array,array,n*sizeof(int), cudaMemcpyHostToDevice);\n",
        "\n",
        "  // Allocate on the device an array to keep all the results\n",
        "  int *d_results;\n",
        "  cudaMalloc(&d_results,nPartitions*sizeof(int));\n",
        "// Now invoke the kernel\n",
        "  evaluatePartition<<<(nPartitions+31)/32,32>>>(  n, d_array,d_results) ;\n",
        "  // The array on the host that will contain the results is called results\n",
        "  int *results;\n",
        "  results = (int *) calloc (nPartitions , sizeof(int));\n",
        "// Copy the results from the GPU card to main memory on the host\n",
        "  cudaMemcpy(results,d_results,nPartitions*sizeof(int),cudaMemcpyDeviceToHost);\n",
        "  /*\n",
        "  for(int i = 0;i < nPartitions;i++) {\n",
        "\t printf(\"%d \",results[i]);\n",
        "  }\n",
        "  printf(\"\\n\");\n",
        " */\n",
        "  for(int i = 0;i < nPartitions;i++) {\n",
        "\t  if (results[i] != 0) {\n",
        "\t\t  solutionFound = 1;\n",
        "\t\t  solution = i;\n",
        "\t\t  break;\n",
        "\t  }\n",
        "  }\n",
        "\n",
        "  if (solutionFound == 1) {\n",
        "    printResults(solution, n, array);\n",
        "  }\n",
        "  else {\n",
        "    printf(\"No solution was found.\");\n",
        "  }\n",
        "  return 0;\n",
        "}"
      ],
      "metadata": {
        "colab": {
          "base_uri": "https://localhost:8080/"
        },
        "id": "I8HKgd8PL4j7",
        "outputId": "80ca9cee-7b29-4c63-cc70-5c8fd9f14489"
      },
      "execution_count": 1,
      "outputs": [
        {
          "output_type": "stream",
          "name": "stdout",
          "text": [
            "Writing cudaPartition.cu\n"
          ]
        }
      ]
    },
    {
      "cell_type": "code",
      "source": [
        "!nvcc cudaPartition.cu -o cudaPartition"
      ],
      "metadata": {
        "id": "xRAUZxdGMSH_"
      },
      "execution_count": 3,
      "outputs": []
    },
    {
      "cell_type": "markdown",
      "source": [
        "A test file"
      ],
      "metadata": {
        "id": "PDHT_sOwMgqa"
      }
    },
    {
      "cell_type": "code",
      "source": [
        "%%writefile test20.txt\n",
        "20\n",
        "1 1 1 1 1 1 1 1 1 1 1 1 1 1 1 1 1 1 1 19"
      ],
      "metadata": {
        "colab": {
          "base_uri": "https://localhost:8080/"
        },
        "id": "Av4DSXyMMgPS",
        "outputId": "955accef-7cb0-46f5-bc9b-def990913a4f"
      },
      "execution_count": 4,
      "outputs": [
        {
          "output_type": "stream",
          "name": "stdout",
          "text": [
            "Writing test20.txt\n"
          ]
        }
      ]
    },
    {
      "cell_type": "markdown",
      "source": [
        "Execute the program"
      ],
      "metadata": {
        "id": "WqRW6ndlM3XS"
      }
    },
    {
      "cell_type": "code",
      "source": [
        "!./cudaPartition < test20.txt"
      ],
      "metadata": {
        "colab": {
          "base_uri": "https://localhost:8080/"
        },
        "id": "pYF5D4puM5g1",
        "outputId": "b3c1174a-7b4f-40de-ac9a-57ed2178fdc9"
      },
      "execution_count": 5,
      "outputs": [
        {
          "output_type": "stream",
          "name": "stdout",
          "text": [
            "The value of n is 20\n",
            "The read values are: \n",
            "1 1 1 1 1 1 1 1 1 1 1 1 1 1 1 1 1 1 1 19 \n",
            "Solution:\n",
            "First partition: 1 1 1 1 1 1 1 1 1 1 1 1 1 1 1 1 1 1 1  sum: 19 \n",
            "Second partition: 19  sum: 19 \n"
          ]
        }
      ]
    },
    {
      "cell_type": "markdown",
      "source": [
        "Now a version with Thrust"
      ],
      "metadata": {
        "id": "j9M9XAjrO4CT"
      }
    },
    {
      "cell_type": "markdown",
      "source": [
        "Another, smaller, test file"
      ],
      "metadata": {
        "id": "zyXQ-UwPYJxM"
      }
    },
    {
      "cell_type": "code",
      "source": [
        "%%writefile test4.txt\n",
        "4\n",
        "1 1 1 3"
      ],
      "metadata": {
        "colab": {
          "base_uri": "https://localhost:8080/"
        },
        "id": "W1mKSiNsYMh0",
        "outputId": "569d6c24-ce9f-45ab-aa54-80fa06eabf25"
      },
      "execution_count": 46,
      "outputs": [
        {
          "output_type": "stream",
          "name": "stdout",
          "text": [
            "Writing test4.txt\n"
          ]
        }
      ]
    },
    {
      "cell_type": "code",
      "source": [
        "%%writefile partition_thrust.cu\n",
        "//\n",
        "// The Thrust documentation is available at\n",
        "// https://docs.nvidia.com/cuda/thrust/index.html\n",
        "//\n",
        "\n",
        "#include <thrust/host_vector.h>\n",
        "#include <thrust/device_vector.h>\n",
        "#include <iostream>\n",
        "\n",
        "using namespace std;\n",
        "\n",
        "struct evaluate_partition\n",
        "{\n",
        "\n",
        "    int  *array;\n",
        "    int n;\n",
        "\n",
        "    __host__\n",
        "    __device__\n",
        "\n",
        "    evaluate_partition(int * _array,int _n) : array(_array),n(_n)  {}\n",
        "\n",
        "     __host__\n",
        "     __device__\n",
        "\n",
        "    int operator()(const int value)  {\n",
        "\n",
        "    int sum0s = 0;\n",
        "    int sum1s = 0;\n",
        "    unsigned int mask = 1;\n",
        "    // int n = array.size();\n",
        "    for(int i = 0;i < n;i++) {\n",
        "      if ((mask & value) != 0) {\n",
        "        sum1s = sum1s + array[i];\n",
        "      }\n",
        "      else {\n",
        "        sum0s = sum0s + array[i];\n",
        "      }\n",
        "      mask = mask * 2;\n",
        "    }\n",
        "\n",
        "    if (sum0s == sum1s)\n",
        "      return 1;\n",
        "    else\n",
        "      return 0;\n",
        "\n",
        "\n",
        "    }\n",
        "};\n",
        "\n",
        "\n",
        "int main() {\n",
        "    int n;\n",
        "    cin >> n;\n",
        "    cout << \"The size of the problem is: \" << n << endl;\n",
        "\n",
        "    thrust::host_vector <int> values_host(n);\n",
        "    for(int i = 0;i < n;i++) {\n",
        "      cin >> values_host[i];\n",
        "    }\n",
        "    cout << \"The problem is: \" << endl;\n",
        "    for(int i = 0;i < n;i++) {\n",
        "      cout << values_host[i] << \" \";\n",
        "    }\n",
        "    cout << endl;\n",
        "    thrust::device_vector < int > values_device(n);\n",
        "\n",
        "    values_device = values_host;\n",
        "\n",
        "    int size_power_set = 1;\n",
        "    for(int i = 0;i < n;i++) {\n",
        "      size_power_set = size_power_set * 2;\n",
        "    }\n",
        "    cout << \"The size of the power set is \" << size_power_set << endl;\n",
        "\n",
        "    thrust::device_vector < int > result_device(size_power_set);\n",
        "    thrust::host_vector < int > input_host(size_power_set);\n",
        "    thrust::host_vector < int > result_host(size_power_set);\n",
        "    /*\n",
        "    thrust::counting_iterator<int> first(0);\n",
        "    thrust::counting_iterator<int> last = first + size_power_set;\n",
        "    */\n",
        "    thrust::sequence(input_host.begin(),input_host.end());\n",
        "    cout << \"input_host: \" << endl;\n",
        "    for(int i = 0;i < size_power_set;i++) {\n",
        "      cout << input_host[i] << \" \";\n",
        "    }\n",
        "    cout << endl;\n",
        "\n",
        "    thrust::device_vector < int > input_device(size_power_set);\n",
        "\n",
        "    input_device = input_host;\n",
        "\n",
        "    evaluate_partition eval_part(thrust::raw_pointer_cast(values_device.data()),n);\n",
        "    thrust::transform(input_device.begin(),input_device.end(),\n",
        "                          result_device.begin(),eval_part);\n",
        "\n",
        "    int result = thrust::reduce(result_device.begin(),result_device.end(),(int)0, thrust::plus<int>());\n",
        "\n",
        "    result_host = result_device;\n",
        "    cout << \"Result host: \" << endl;\n",
        "    for(int i = 0;i < size_power_set;i++) {\n",
        "      cout << result_host[i] << \" \";\n",
        "    }\n",
        "    cout << endl;\n",
        "\n",
        "    if (result == 0) {\n",
        "      cout << \"This instance does not have a solution.\" << endl;\n",
        "    }\n",
        "    else {\n",
        "      cout << \"This instance has a solution.\" << endl;\n",
        "    }\n",
        "\n",
        "}"
      ],
      "metadata": {
        "colab": {
          "base_uri": "https://localhost:8080/"
        },
        "id": "sWJgHA0uO6ED",
        "outputId": "29fb5c92-6387-4f0e-c30c-8bbc626ac5ef"
      },
      "execution_count": 98,
      "outputs": [
        {
          "output_type": "stream",
          "name": "stdout",
          "text": [
            "Overwriting partition_thrust.cu\n"
          ]
        }
      ]
    },
    {
      "cell_type": "code",
      "source": [
        "!nvcc partition_thrust.cu -o partition_thrust"
      ],
      "metadata": {
        "id": "_3Fl0Fq6PW9L"
      },
      "execution_count": 99,
      "outputs": []
    },
    {
      "cell_type": "code",
      "source": [
        "!./partition_thrust < test4.txt"
      ],
      "metadata": {
        "colab": {
          "base_uri": "https://localhost:8080/"
        },
        "id": "Se67ztHlQHyb",
        "outputId": "c2771322-fe5a-4ed8-9e6d-b46277724217"
      },
      "execution_count": 100,
      "outputs": [
        {
          "output_type": "stream",
          "name": "stdout",
          "text": [
            "The size of the problem is: 4\n",
            "The problem is: \n",
            "1 1 1 3 \n",
            "The size of the power set is 16\n",
            "input_host: \n",
            "0 1 2 3 4 5 6 7 8 9 10 11 12 13 14 15 \n",
            "Result host: \n",
            "0 0 0 0 0 0 0 1 1 0 0 0 0 0 0 0 \n",
            "This instance has a solution.\n"
          ]
        }
      ]
    }
  ]
}